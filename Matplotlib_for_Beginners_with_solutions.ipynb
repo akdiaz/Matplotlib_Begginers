{
  "nbformat": 4,
  "nbformat_minor": 0,
  "metadata": {
    "colab": {
      "name": "Matplotlib for Beginners with solutions.ipynb",
      "provenance": [],
      "collapsed_sections": [
        "TVSRFWt7Tqfr",
        "1GUsRfGLSvGs",
        "6c5uDA-5T6rW",
        "lg3yupxyYMlq",
        "bjmuvoJBZ5Bs",
        "shINc_XialvI",
        "GA8jJdJKeUld",
        "64xhEmWGBqoC",
        "P7IoupaTrnLG",
        "6B4fy4pDGjGF",
        "fBBXn2bggv3R",
        "gmbUVEgqE--_",
        "FJlQllK5wWdi",
        "yMJgG2XaFY57",
        "tOsqR3nU5Kg_",
        "YQVD66E-84UH",
        "CqilSdxS9Sft",
        "MdLgCkCpC3Os",
        "m0KBky6mFBmO",
        "ZHy3POCd-GpB",
        "TH27twKgF6Jw",
        "VOednqIpYnx3",
        "WhEDEfepJv5v",
        "2Y_s_9jVR-gN",
        "WGsglc0Coboh",
        "bdXPpI9wvAhp",
        "ZiCBMOXvO6dh"
      ],
      "toc_visible": true
    },
    "kernelspec": {
      "display_name": "Python 3",
      "name": "python3"
    }
  },
  "cells": [
    {
      "cell_type": "markdown",
      "metadata": {
        "id": "TVSRFWt7Tqfr"
      },
      "source": [
        "#Initialize"
      ]
    },
    {
      "cell_type": "code",
      "metadata": {
        "id": "vkZY4jAZMybB"
      },
      "source": [
        "%pip install aplpy\n",
        "import matplotlib.pyplot as plt\n",
        "import matplotlib.gridspec as gridspec #to make a grid of axes\n",
        "from mpl_toolkits.axes_grid1.inset_locator import inset_axes #to make inset\n",
        "import aplpy #to work with fits\n",
        "from astropy import units as u #to work with units\n",
        "import numpy as np\n",
        "import random"
      ],
      "execution_count": null,
      "outputs": []
    },
    {
      "cell_type": "code",
      "metadata": {
        "id": "bhd63-6n9hLY"
      },
      "source": [
        "#Import data files to use (don't worry about this :D)\n",
        "from google.colab import files\n",
        "uploaded = files.upload()"
      ],
      "execution_count": null,
      "outputs": []
    },
    {
      "cell_type": "code",
      "metadata": {
        "id": "hkeUe-Np96X4"
      },
      "source": [
        "# Helper functions\n",
        "import scipy.constants as const\n",
        "\n",
        "def random_array(min,max,l):\n",
        "  '''Returns an array of random numbers between min and max, with length l.'''\n",
        "  return np.array(random.sample(range(min, max), l))\n",
        "\n",
        "def load_file(file_name):\n",
        "  '''Load data in file_name and unpack the columns.'''\n",
        "  data=np.loadtxt('/content/'+file_name) #loading file\n",
        "  return data.T\n",
        "\n",
        "def freq_to_wavel(f):\n",
        "    '''Convert from frequency (f, in GHz) to wavelength (wl, in cm). '''\n",
        "    return const.speed_of_light/(f*1E9)*100\n",
        "\n",
        "def wavel_to_freq(wl):\n",
        "    '''Convert from wavelength (wl, in cm) to frequency (f, in GHz). '''\n",
        "    return const.speed_of_light/(wl/100)/1E9\n",
        "\n",
        "def make_label_rms(rms):\n",
        "    '''Make the label of the rms of the figure'''\n",
        "    return f'rms = {rms} '+r'$\\mu$Jy beam$^{-1}$'\n"
      ],
      "execution_count": null,
      "outputs": []
    },
    {
      "cell_type": "markdown",
      "metadata": {
        "id": "1GUsRfGLSvGs"
      },
      "source": [
        "# Basics"
      ]
    },
    {
      "cell_type": "markdown",
      "metadata": {
        "id": "VtJO9p9ESzqZ"
      },
      "source": [
        "A **Figure** can contain several Axes. The **Axes** is were you actually make the plot."
      ]
    },
    {
      "cell_type": "code",
      "metadata": {
        "id": "8t64ccH9rVch"
      },
      "source": [
        "# Create some data\n",
        "x = range(0,50)exit\n",
        "y1 = np.sin(x)\n",
        "y2 = np.cos(x)\n",
        "y3 = np.sin(x)-np.cos(x)"
      ],
      "execution_count": null,
      "outputs": []
    },
    {
      "cell_type": "markdown",
      "metadata": {
        "id": "6c5uDA-5T6rW"
      },
      "source": [
        "## Exercise 1\n",
        "Create a **Figure** containing a single **axes**. Fill it with data."
      ]
    },
    {
      "cell_type": "code",
      "metadata": {
        "id": "JPaHOKxNUJLT"
      },
      "source": [
        "fig, ax = plt.subplots()  # Create a figure containing a single axes.\n",
        "ax.plot(x,y1) # Plot the data\n",
        "fig.show() # Show it"
      ],
      "execution_count": null,
      "outputs": []
    },
    {
      "cell_type": "markdown",
      "metadata": {
        "id": "lg3yupxyYMlq"
      },
      "source": [
        "## Exercise 2\n",
        "Create a **Figure** containing a two horizontal **axes** (top and bottom). Fill it with data."
      ]
    },
    {
      "cell_type": "code",
      "metadata": {
        "id": "eKp7WdePNBqL"
      },
      "source": [
        "fig, axes = plt.subplots(2)  # Create a figure containing two horizontal axes (top and bottom).\n",
        "axes[0].plot(x,y1) # Plot the data in the first axes (index 0) \n",
        "axes[1].plot(x,y2) #  Plot the data in the second axes (index 1)\n",
        "fig.show() # Show it"
      ],
      "execution_count": null,
      "outputs": []
    },
    {
      "cell_type": "markdown",
      "metadata": {
        "id": "bjmuvoJBZ5Bs"
      },
      "source": [
        "## Exercise 3\n",
        "Create a **Figure** containing a two vertical **axes** (side by side). Fill it with data."
      ]
    },
    {
      "cell_type": "code",
      "metadata": {
        "id": "C5q3PMpaZ5B8"
      },
      "source": [
        "fig, axes = plt.subplots(1,2)  # Create a figure containing two horizontal axes (top and bottom).\n",
        "axes[0].plot(x,y1) # Plot the data in the first axes (index 0) \n",
        "axes[1].plot(x,y2) #  Plot the data in the second axes (index 1)\n",
        "fig.show() # Show it"
      ],
      "execution_count": null,
      "outputs": []
    },
    {
      "cell_type": "markdown",
      "metadata": {
        "id": "shINc_XialvI"
      },
      "source": [
        "## Exercise 4\n",
        "Create a **Figure** containing several **axes** (3x4). Fill it with data."
      ]
    },
    {
      "cell_type": "code",
      "metadata": {
        "id": "24si9oVpalvK"
      },
      "source": [
        "fig, axes = plt.subplots(3,4)  # Create a figure containing three rows and four columns axes (top and bottom).\n",
        "axes[0,0].plot(x,y1) # Plot the data in the first row and first column axes (index [0,0]) \n",
        "axes[1,2].plot(x,y2) # Plot the data in the second row and third column axes (index [1,2])\n",
        "fig.show() # Show it"
      ],
      "execution_count": null,
      "outputs": []
    },
    {
      "cell_type": "markdown",
      "metadata": {
        "id": "W5tonBYkb6gS"
      },
      "source": [
        "Another way to fill in the data:"
      ]
    },
    {
      "cell_type": "code",
      "metadata": {
        "id": "uK0EssgrcY5T"
      },
      "source": [
        "# Use function random_array to generate the y data for every axes.\n",
        "\n",
        "fig, axes = plt.subplots(3,4)  # Create a figure containing three rows and four columns axes.\n",
        "for row_index in range(0,3):\n",
        "  for column_index in range(0,4):\n",
        "    axes[row_index,column_index].plot(x,random_array(-50,50,len(x)))\n",
        "plt.show()"
      ],
      "execution_count": null,
      "outputs": []
    },
    {
      "cell_type": "markdown",
      "metadata": {
        "id": "GA8jJdJKeUld"
      },
      "source": [
        "## Exercise 5\n",
        "Can we make the above plot prettier?"
      ]
    },
    {
      "cell_type": "code",
      "metadata": {
        "id": "nLfAXm1hWAZh"
      },
      "source": [
        "fig, axes = plt.subplots(3,4, figsize=(15,10), sharex=True, sharey=True)  #size: width, heigth in inches\n",
        "# Create a figure containing three rows and four columns axes (top and bottom), with a certain size and sharing the axis between the axes.\n",
        "for row_index in range(0,3):\n",
        "  for column_index in range(0,4):\n",
        "    axes[row_index,column_index].plot(x,random_array(-50,50,len(x)))\n",
        "plt.show()"
      ],
      "execution_count": null,
      "outputs": []
    },
    {
      "cell_type": "markdown",
      "metadata": {
        "id": "64xhEmWGBqoC"
      },
      "source": [
        "## Exercise 6\n",
        "Create a **Figure** containing several **axes** of *different* sizes. Eg: one horizontal axe in the top pannel and two vertical axes (side by side) in the bottom pannel. Fill it with data.\n",
        "([Documentation](https://matplotlib.org/stable/tutorials/intermediate/gridspec.html#sphx-glr-tutorials-intermediate-gridspec-py))"
      ]
    },
    {
      "cell_type": "code",
      "metadata": {
        "id": "uFRCIx-tCEgz"
      },
      "source": [
        "#Create the layout\n",
        "fig = plt.figure()  # Create an empty figure \n",
        "gs = fig.add_gridspec(2, 2) #add a 2x2 grid inside the figure\n",
        "ax1 = fig.add_subplot(gs[0, :]) #add an axes inside the grid spanning the first row\n",
        "ax2 = fig.add_subplot(gs[1, 0]) #add an axes inside the grid in the second row and first column\n",
        "ax3 = fig.add_subplot(gs[1, 1]) #add an axes inside the grid in the second row and second column\n",
        "\n",
        "#Plot the data\n",
        "ax1.plot(x,y1) # Plot the data in the first axes\n",
        "ax2.bar(x,y2) #  Plot the data in the second axes (notice the bar plot)\n",
        "ax3.scatter(x,y3) #  Plot the data in the tird axes (notice the scatter plot)\n",
        "fig.show() # Show it"
      ],
      "execution_count": null,
      "outputs": []
    },
    {
      "cell_type": "markdown",
      "metadata": {
        "id": "P7IoupaTrnLG"
      },
      "source": [
        "## Excercise 7\n",
        "What about an inset? Create a **Figure** with one **axes** and put a **smaller axes** inside. Fill the axes with data. Can you show a zoom in of your data in the inset?\n",
        " ([Demo](https://matplotlib.org/stable/gallery/axes_grid1/inset_locator_demo.html#sphx-glr-gallery-axes-grid1-inset-locator-demo-py), [Demo2](https://matplotlib.org/stable/gallery/axes_grid1/inset_locator_demo2.html#sphx-glr-gallery-axes-grid1-inset-locator-demo2-py))  "
      ]
    },
    {
      "cell_type": "code",
      "metadata": {
        "id": "G9nTRiJsHnc4"
      },
      "source": [
        "fig, ax = plt.subplots()  # Create a figure containing a single axes.\n",
        "ax.plot(x,y1) # Plot the data\n",
        "\n",
        "# Create inset of width 30% and height 40% of the parent axes' bounding box\n",
        "# at the upper right corner (default, loc=1)\n",
        "ax_ins = inset_axes(ax, width=\"30%\", height=\"40%\")\n",
        "ax_ins.plot(x,y1) # Plot the data\n",
        "ax_ins.set_xlim(10,18) #limit the portion ploted\n",
        "ax_ins.set_ylim(0,1.1) #limit the portion ploted\n",
        "\n",
        "fig.show() # Show it\n"
      ],
      "execution_count": null,
      "outputs": []
    },
    {
      "cell_type": "markdown",
      "metadata": {
        "id": "6B4fy4pDGjGF"
      },
      "source": [
        "## Excercise 8\n",
        "Save the above plot."
      ]
    },
    {
      "cell_type": "code",
      "metadata": {
        "id": "6XjzdISOrySp"
      },
      "source": [
        "fig.savefig('Nice_plot.png') #also pdf, svg, ..."
      ],
      "execution_count": null,
      "outputs": []
    },
    {
      "cell_type": "code",
      "metadata": {
        "id": "xZQ3-cr9si3H"
      },
      "source": [
        "fig.savefig('Nice_plot_tight.png', bbox_inches='tight') # gets rid of the empty space around it"
      ],
      "execution_count": null,
      "outputs": []
    },
    {
      "cell_type": "markdown",
      "metadata": {
        "id": "9Ee2NSgSgUYf"
      },
      "source": [
        "# Customizing your plot"
      ]
    },
    {
      "cell_type": "markdown",
      "metadata": {
        "id": "GkKAuU3xYalA"
      },
      "source": [
        "First, import data in file WASP10b-curve.txt with the light curve of WASP10b during a transit. Columns are Julian Date, Magnitude Diference, lower error and upper error."
      ]
    },
    {
      "cell_type": "code",
      "metadata": {
        "id": "EsXy79vg6jGg"
      },
      "source": [
        "#import data\n",
        "file_name = 'WASP10b-curve.txt'\n",
        "julian_date, delta_magnitude, lower_error, upper_error = load_file(file_name) #must set the names of the columns to unpack!!"
      ],
      "execution_count": null,
      "outputs": []
    },
    {
      "cell_type": "markdown",
      "metadata": {
        "id": "fBBXn2bggv3R"
      },
      "source": [
        "## Exercise 9\n",
        "Plot the data (without errors) with red dots joined by a green line and show a grid. Name the plot, the axis, select your own tickmarks and show a legend. Make an annotation marking the transit. Make things big!\n",
        "\n",
        "Documentation:\n",
        "[Line formats](https://matplotlib.org/stable/gallery/lines_bars_and_markers/linestyles.html)\n",
        "[Marker formats](https://matplotlib.org/stable/gallery/lines_bars_and_markers/marker_reference.html?highlight=marker%20styles) \n",
        "[Legend](https://matplotlib.org/stable/api/_as_gen/matplotlib.pyplot.legend.html#matplotlib.pyplot.legend)\n",
        "[Annotate](https://matplotlib.org/stable/api/_as_gen/matplotlib.axes.Axes.annotate.html#matplotlib.axes.Axes.annotate)\n",
        "[Ticks (Advanced)](https://matplotlib.org/stable/api/ticker_api.html?highlight=ticks)\n"
      ]
    },
    {
      "cell_type": "code",
      "metadata": {
        "id": "P2muW-Jd7o--"
      },
      "source": [
        "fontsize=20\n",
        "fig, ax = plt.subplots(figsize=(20,7)) #width, heigth in inches\n",
        "\n",
        "# Plot data with grid\n",
        "ax.plot(julian_date,delta_magnitude,'g',label='WASP10b curve with line') # draw green lines\n",
        "ax.plot(julian_date,delta_magnitude,'or',label='WASP10b curve with markers') # draw red circle markers\n",
        "ax.invert_yaxis() # because is relative to a comparison star\n",
        "ax.grid(True,linestyle='--')\n",
        "\n",
        "# Set labels and add legend\n",
        "ax.set_title('Light curve of WASP10b', fontsize=fontsize+10)\n",
        "ax.set_xlabel('Time (Julian Date)',fontsize=fontsize)  # Add an x-label to the axes.\n",
        "ax.set_ylabel('$\\Delta$ Magnitude',fontsize=fontsize)  # Add a y-label to the axes.\n",
        "ax.legend(fontsize=fontsize)\n",
        "\n",
        "# Set ticks\n",
        "ax.set_yticks(np.arange(-0.96,-0.89,0.02))\n",
        "ax.tick_params(axis='both',labelsize=fontsize)\n",
        "\n",
        "# Add anotation\n",
        "ax.annotate('This is the transit',xy=(0.3, 0.4),xytext=(0.3, 0.7), xycoords='figure fraction', horizontalalignment='center',arrowprops=dict(facecolor='black'),fontsize=fontsize-5)\n",
        "\n",
        "fig.show()"
      ],
      "execution_count": null,
      "outputs": []
    },
    {
      "cell_type": "markdown",
      "metadata": {
        "id": "gmbUVEgqE--_"
      },
      "source": [
        "## Exercise 10\n",
        "What about the errors?"
      ]
    },
    {
      "cell_type": "code",
      "metadata": {
        "id": "CNDaRFG9FDZV"
      },
      "source": [
        "fontsize=20\n",
        "fig, ax = plt.subplots(figsize=(20,7)) #width, heigth in inches\n",
        "\n",
        "# Errors\n",
        "asymmetric_error = [lower_error, upper_error]\n",
        "\n",
        "# Plot data with grid\n",
        "ax.plot(julian_date,delta_magnitude,'g',label='WASP10b curve with line') # draw green lines\n",
        "ax.errorbar(julian_date,delta_magnitude,yerr=asymmetric_error,capsize=2,fmt='or',label='WASP10b curve with markers and errors') # plot errors and draw red circle markers\n",
        "ax.invert_yaxis() # because is relative to a comparison star\n",
        "ax.grid(True)\n",
        "\n",
        "# Set labels and add legend\n",
        "ax.set_title('Light curve of WASP10b', fontsize=fontsize+10)\n",
        "ax.set_xlabel('Time (Julian Date)',fontsize=fontsize)  # Add an x-label to the axes.\n",
        "ax.set_ylabel('$\\Delta$ Magnitude',fontsize=fontsize)  # Add a y-label to the axes.\n",
        "ax.legend(fontsize=fontsize)\n",
        "\n",
        "# Set ticks\n",
        "ax.set_yticks(np.arange(-0.96,-0.89,0.02))\n",
        "ax.tick_params(axis='both',labelsize=fontsize)\n",
        "\n",
        "# Add anotation\n",
        "ax.annotate('This is the transit',xy=(0.3, 0.4),xytext=(0.3, 0.7), xycoords='figure fraction', horizontalalignment='center',arrowprops=dict(facecolor='black'),fontsize=fontsize-5)\n",
        "\n",
        "fig.show()"
      ],
      "execution_count": null,
      "outputs": []
    },
    {
      "cell_type": "markdown",
      "metadata": {
        "id": "gK7vuwXLttGr"
      },
      "source": [
        "## Exercise 11 (work in groups ~15 mins)\n",
        "Plot the spectral energy distribution (SED) of two protostars using a **logaritmic scale** in both axis. Customize the plot (layout, labels, legends, style, annotations, etc). Be creative (and use the documentation)!\n",
        "\n",
        "Data is in the files vla11.dat, vla15.dat. Columns are frequency, wavelength, flux density and flux density error.\n",
        "\n",
        "*Tip*: [Set axis scale](https://matplotlib.org/stable/api/_as_gen/matplotlib.axes.Axes.set_xscale.html#matplotlib.axes.Axes.set_xscale).\n",
        "\n",
        "*Extra*: If you show both data sets in the same axes, you may want to use [two diferent y-axis](https://matplotlib.org/stable/gallery/subplots_axes_and_figures/two_scales.html?highlight=plots%20different%20scales).\n",
        "\n",
        "*Extra*: You can use a [secondary x-axis](https://matplotlib.org/stable/gallery/subplots_axes_and_figures/secondary_axis.html) to show frequency and wavelength at the same time. Use functions freq_to_wavel() and wavel_to_freq()."
      ]
    },
    {
      "cell_type": "code",
      "metadata": {
        "id": "sdF0j89y2sTV"
      },
      "source": [
        "#import data\n",
        "freq_vla11, wavel_vla11, flux_vla11, fluxE_vla11 = load_file('vla11.dat') #must set the names of the columns to unpack!!\n",
        "freq_vla15, wavel_vla15, flux_vla15, fluxE_vla15 = load_file('vla15.dat') #must set the names of the columns to unpack!!"
      ],
      "execution_count": null,
      "outputs": []
    },
    {
      "cell_type": "markdown",
      "metadata": {
        "id": "FJlQllK5wWdi"
      },
      "source": [
        "### Solution 1"
      ]
    },
    {
      "cell_type": "code",
      "metadata": {
        "id": "WH6VHBzs7A_2"
      },
      "source": [
        "color1='b'\n",
        "color2='r'\n",
        "fontsize=14\n",
        "\n",
        "fig,ax=plt.subplots(figsize=(10,7))\n",
        "ax.errorbar(freq_vla11, flux_vla11, fluxE_vla11, label='VLA 11', fmt='o'+color1, capsize=3)\n",
        "\n",
        "secax = ax.secondary_xaxis('top', functions=(freq_to_wavel, wavel_to_freq))  #this makes a child axes with only one axis visible\n",
        "\n",
        "ax2 = ax.twinx()  # instantiate a second axes that shares the same x-axis\n",
        "ax2.errorbar(freq_vla15, flux_vla15, fluxE_vla15, label='VLA 15', fmt='o'+color2, capsize=3) #control several  tick parameters at once\n",
        "\n",
        "#Customize x-axis\n",
        "ax.set_xscale('log')\n",
        "ax.set_xlabel('Frequency (GHz)',fontsize=fontsize)\n",
        "ax.tick_params(axis='x', which='both', labelsize=fontsize, width=2, direction='in') #control several tick parameters at once\n",
        "\n",
        "#Customize secondary x-axis\n",
        "secax.set_xlabel('Wavelength (cm)',fontsize=fontsize) #its using the same scale as its parent (can have different scale)\n",
        "secax.tick_params(axis='x', which='both', labelsize=fontsize, width=2, direction='in') #control several tick parameters at once\n",
        "\n",
        "#Customize first y-axis\n",
        "ax.set_yscale('log')\n",
        "ax.set_ylabel('Flux Density (mJy)',fontsize=fontsize)\n",
        "ax.tick_params(axis='y', labelcolor=color1, which='both', labelsize=fontsize, width=2, direction='in') #control several tick parameters at once\n",
        "\n",
        "#Customize second y-axis\n",
        "ax2.set_yscale('log')\n",
        "ax2.tick_params(axis='y', labelcolor=color2,  which='both', labelsize=fontsize, width=2, direction='in')\n",
        "\n",
        "#Final Touches\n",
        "ax.set_title('Spectral Energy Distribution',fontsize=fontsize+6,pad=20)\n",
        "fig.legend(loc = (0.14,0.72), fontsize=fontsize, shadow=True, edgecolor='black')\n",
        "plt.show()"
      ],
      "execution_count": null,
      "outputs": []
    },
    {
      "cell_type": "markdown",
      "metadata": {
        "id": "QuV-MIOPweQu"
      },
      "source": [
        "### Solution 2"
      ]
    },
    {
      "cell_type": "code",
      "metadata": {
        "id": "4uDvTm5V6nFq"
      },
      "source": [
        "color1='b'\n",
        "color2='r'\n",
        "fontsize=14\n",
        "\n",
        "fig,axes=plt.subplots(2,figsize=(15,10),sharex='all')\n",
        "\n",
        "axes[0].errorbar(freq_vla11,flux_vla11,fluxE_vla11,label='VLA 11',fmt='o'+color1)\n",
        "axes[1].errorbar(freq_vla15,flux_vla15,fluxE_vla15,label='VLA 15',fmt='o'+color2)\n",
        "axes[1].set_xlabel('Frequency (GHz)',fontsize=fontsize)\n",
        "\n",
        "#for all axes\n",
        "for a in axes:\n",
        "  #legend\n",
        "  a.legend(loc=2,shadow=True,edgecolor='black')\n",
        "  \n",
        "  #Take care of the primary x axis:\n",
        "  #Customize x-axis\n",
        "  a.set_xscale('log')\n",
        "  a.tick_params(axis='x', which='both', width=2, direction='in',labelsize=fontsize)\n",
        "  \n",
        "  #Take care of the secondary x axis:\n",
        "  #add secondary axis\n",
        "  secax = a.secondary_xaxis('top', functions=(freq_to_wavel, wavel_to_freq))  #this makes a child axes with only one axis visible\n",
        "  #customize secondary axis\n",
        "  secax.tick_params(which='both', width=2, direction='in',labelsize=fontsize)\n",
        "  # make invisible except for the top one\n",
        "  if a != axes[0]:\n",
        "    secax.tick_params(which='both',labeltop=False)\n",
        "  else:\n",
        "    secax.set_xlabel('Wavelength (cm)',fontsize=fontsize) #its using the same scale as its parent (can have different scale)\n",
        " \n",
        "  #Customize y-axis\n",
        "  a.set_yscale('log')\n",
        "  a.set_ylabel('Flux Density (mJy)',fontsize=fontsize)\n",
        "  a.tick_params(axis='y', which='both', labelsize=fontsize, width=2, direction='in') #control several tick parameters at once\n",
        "\n",
        "#Final Touches\n",
        "fig.suptitle('Spectral Energy Distribution',fontsize=fontsize+6)\n",
        "plt.show()"
      ],
      "execution_count": null,
      "outputs": []
    },
    {
      "cell_type": "markdown",
      "metadata": {
        "id": "yMJgG2XaFY57"
      },
      "source": [
        "# Working with FITS"
      ]
    },
    {
      "cell_type": "markdown",
      "metadata": {
        "id": "-RLlDEM55PTN"
      },
      "source": [
        "We will use [APLpy](https://aplpy.readthedocs.io/en/stable/), the Astronomical Plotting Library in Python, a Python module aimed at producing publication-quality plots of astronomical imaging data in FITS format."
      ]
    },
    {
      "cell_type": "markdown",
      "metadata": {
        "id": "tOsqR3nU5Kg_"
      },
      "source": [
        "## Exercise 12\n",
        "Plot VLA.fits in grayscale and save it."
      ]
    },
    {
      "cell_type": "code",
      "metadata": {
        "id": "kr2iJnXiBhLx"
      },
      "source": [
        "fig = aplpy.FITSFigure('VLA.fits') #this creates a canvas where the figure will be ploted\n",
        "fig.show_grayscale() #display the image\n",
        "fig.save('my_figure.png')"
      ],
      "execution_count": null,
      "outputs": []
    },
    {
      "cell_type": "markdown",
      "metadata": {
        "id": "YQVD66E-84UH"
      },
      "source": [
        "##Exercise 13\n",
        "Plot it in colorscale."
      ]
    },
    {
      "cell_type": "code",
      "metadata": {
        "id": "15Fa3k5_831g"
      },
      "source": [
        "fig = aplpy.FITSFigure('VLA.fits')\n",
        "fig.show_colorscale()"
      ],
      "execution_count": null,
      "outputs": []
    },
    {
      "cell_type": "markdown",
      "metadata": {
        "id": "CqilSdxS9Sft"
      },
      "source": [
        "## Exercise 14\n",
        "Change the color scale and show the color bar and the beam."
      ]
    },
    {
      "cell_type": "code",
      "metadata": {
        "id": "6VUrfv-d9Qz9"
      },
      "source": [
        "fig = aplpy.FITSFigure('VLA.fits')\n",
        "fig.show_colorscale(cmap='gist_heat')\n",
        "fig.add_colorbar()\n",
        "fig.add_beam()"
      ],
      "execution_count": null,
      "outputs": []
    },
    {
      "cell_type": "markdown",
      "metadata": {
        "id": "MdLgCkCpC3Os"
      },
      "source": [
        "## Exercise 15\n",
        "Add countours."
      ]
    },
    {
      "cell_type": "code",
      "metadata": {
        "id": "sxPgaB4PDAub"
      },
      "source": [
        "fig = aplpy.FITSFigure('VLA.fits')\n",
        "fig.show_colorscale(cmap='gist_heat')\n",
        "fig.add_colorbar()\n",
        "fig.add_beam() # in the background layer\n",
        "fig.show_contour('VLA.fits') #countours are plotted in a different layer\n",
        "fig.list_layers() #this lists the layers in the figure"
      ],
      "execution_count": null,
      "outputs": []
    },
    {
      "cell_type": "markdown",
      "metadata": {
        "id": "m0KBky6mFBmO"
      },
      "source": [
        "## Exercise 16\n",
        "Show only a countor plot."
      ]
    },
    {
      "cell_type": "code",
      "metadata": {
        "id": "MUDLhoSpFLhm"
      },
      "source": [
        "fig = aplpy.FITSFigure('VLA.fits')\n",
        "fig.add_beam()  # in the background layer\n",
        "fig.show_contour('VLA.fits') #countours are plotted in a different layer\n",
        "fig.list_layers() #this lists the layers in the figure"
      ],
      "execution_count": null,
      "outputs": []
    },
    {
      "cell_type": "markdown",
      "metadata": {
        "id": "ZHy3POCd-GpB"
      },
      "source": [
        "## Exercise 17\n",
        "Add ALMA.fits in contours to VLA.fits."
      ]
    },
    {
      "cell_type": "code",
      "metadata": {
        "id": "wjiSlvnA_PhM"
      },
      "source": [
        "fig = aplpy.FITSFigure('VLA.fits')\n",
        "fig.show_colorscale(cmap='gist_heat')\n",
        "fig.add_colorbar()\n",
        "fig.add_beam() #this only shows the beam in the main figure\n",
        "fig.show_contour('ALMA.fits')"
      ],
      "execution_count": null,
      "outputs": []
    },
    {
      "cell_type": "markdown",
      "metadata": {
        "id": "TH27twKgF6Jw"
      },
      "source": [
        "## Exercise 18\n",
        "Show also the ALMA beam. "
      ]
    },
    {
      "cell_type": "code",
      "metadata": {
        "id": "4p9gmWqOE_C4"
      },
      "source": [
        "fig = aplpy.FITSFigure('VLA.fits')\n",
        "fig.show_colorscale(cmap='gist_heat')\n",
        "fig.add_colorbar()\n",
        "fig.add_beam() #this only shows the beam in the main figure\n",
        "fig.show_contour('ALMA.fits')\n",
        "\n",
        "#making ALMA beam\n",
        "fig.add_beam() #this adds a second beam identical to the one in the background, but you can modify it (by hand :/)\n",
        "#set second beam\n",
        "fig.beam[1].set_major(0.107 * u.arcsecond)\n",
        "fig.beam[1].set_minor(0.104 * u.arcsecond)\n",
        "fig.beam[1].set_angle(18.9 * u.degree)"
      ],
      "execution_count": null,
      "outputs": []
    },
    {
      "cell_type": "markdown",
      "metadata": {
        "id": "VOednqIpYnx3"
      },
      "source": [
        "## Exercise 19\n",
        "Mark the positions in the file coordinates.txt"
      ]
    },
    {
      "cell_type": "code",
      "metadata": {
        "id": "PV4ebgkabbN-"
      },
      "source": [
        "#import data\n",
        "file_name = 'coordinates.txt'\n",
        "ra, dec = load_file(file_name) #must set the names of the columns to unpack!!\n",
        "\n",
        "fig = aplpy.FITSFigure('VLA.fits')\n",
        "fig.show_colorscale(cmap='gist_heat')\n",
        "fig.add_colorbar()\n",
        "fig.add_beam() #this only shows the beam in the main figure\n",
        "fig.show_contour('ALMA.fits')\n",
        "\n",
        "#making ALMA beam\n",
        "fig.add_beam() #this adds a second beam identical to the one in the background, but you can modify it (by hand :/)\n",
        "#set second beam\n",
        "fig.beam[1].set_major(0.107 * u.arcsecond)\n",
        "fig.beam[1].set_minor(0.104 * u.arcsecond)\n",
        "fig.beam[1].set_angle(18.9 * u.degree)\n",
        "\n",
        "fig.show_markers(ra, dec, marker='+', facecolor='green', s=200) #this is added in a new layer\n",
        "fig.list_layers() #this list the layers in the figure"
      ],
      "execution_count": null,
      "outputs": []
    },
    {
      "cell_type": "markdown",
      "metadata": {
        "id": "WhEDEfepJv5v"
      },
      "source": [
        "## Exercise 20\n",
        "Lets make things prettier\n",
        "[(Documentation)](https://aplpy.readthedocs.io/en/stable/fitsfigure/quick_reference.html)."
      ]
    },
    {
      "cell_type": "code",
      "metadata": {
        "id": "R4ttSwe5JveH"
      },
      "source": [
        "#contours to use\n",
        "cont_alma = np.array([ 5, 10, 20, 30, 50, 70])\n",
        "f = 1E-6\n",
        "\n",
        "#rms of images\n",
        "rms_value_alma=550 #uJy\n",
        "rms_value_vla=10 #uJy\n",
        "#labels\n",
        "label_rms_alma = make_label_rms(rms_value_alma)\n",
        "label_rms_vla = make_label_rms(rms_value_vla)\n",
        "\n",
        "\n",
        "#center coordinates and field of view to show\n",
        "ra_center = 15*(5+35/60+25.875/3600) #5 35 25.95\n",
        "dec_center = -1*(5+5/60+43.369/3600)  #-5 5 43.369\n",
        "r = 5/3600 # x arcsec\n",
        "\n",
        "\n",
        "# some format stuff\n",
        "color_alma = 'blue'\n",
        "color_vla = 'black'\n",
        "line_width = 2\n",
        "font_size = 20\n",
        "tick_size = 8\n",
        "min_tick_size = 4\n",
        "\n",
        "#make the figures and show markers\n",
        "fig = aplpy.FITSFigure('VLA.fits')\n",
        "fig.show_colorscale(cmap='gist_heat')\n",
        "fig.show_contour('ALMA.fits', colors = color_alma, levels=cont_alma*rms_value_alma*f, layer='contour_set_alma')\n",
        "fig.show_markers(ra, dec, marker='+', facecolor='black', s=200) #this is added in a new layer\n",
        "\n",
        "#recenter and zoom in figure \n",
        "fig.recenter(ra_center, dec_center, radius=r/2)\n",
        "\n",
        "#customize color bar\n",
        "fig.add_colorbar()\n",
        "fig.colorbar.set_font(size=font_size)\n",
        "fig.colorbar.set_axis_label_text('Surface Brightness (Jy/beam)')\n",
        "fig.colorbar.set_axis_label_font(size=font_size)\n",
        "\n",
        "#customize beams\n",
        "fig.add_beam() #this only shows the beam in the main figure\n",
        "fig.add_beam() #this adds a second beam identical to the one in the background, but you can modify it (by hand :/)\n",
        "#set second beam\n",
        "fig.beam[1].set_major(0.107 * u.arcsecond)\n",
        "fig.beam[1].set_minor(0.104 * u.arcsecond)\n",
        "fig.beam[1].set_angle(18.9 * u.degree)\n",
        "fig.beam[0].set(facecolor='white',edgecolor=color_vla, linewidth = line_width)\n",
        "fig.beam[1].set(facecolor='white',edgecolor=color_alma, linewidth = line_width)\n",
        "fig.beam[1].set_frame(True)\n",
        "\n",
        "# final touches\n",
        "fig.frame.set_linewidth(line_width)  # points\n",
        "fig.ax.tick_params(direction='in', length=tick_size, width=line_width, color='white')\n",
        "fig.ax.tick_params(length=min_tick_size, which='minor') #only property available with 'minor' is length\n",
        "fig.axis_labels.set_font(size=font_size)\n",
        "fig.tick_labels.set_font(size=font_size)\n",
        "fig.set_title('Sources 1 and 2',size=font_size+10,pad=20)\n",
        "\n",
        "fig.add_label(0.95, 0.05, label_rms_alma, relative=True, size=font_size, horizontalalignment='right',color=color_alma, backgroundcolor='white')\n",
        "fig.add_label(0.95, 0.12, label_rms_vla, relative=True, size=font_size, horizontalalignment='right',color=color_vla, backgroundcolor='white')\n",
        "\n",
        "names=['Source 1','Source 2']\n",
        "for i, coord in enumerate(zip(ra,dec)): \n",
        "  fig.add_label(coord[0], coord[1]+0.8/3600, names[i], size=font_size, color='white')\n",
        "\n"
      ],
      "execution_count": null,
      "outputs": []
    },
    {
      "cell_type": "markdown",
      "metadata": {
        "id": "9symf5YvPatH"
      },
      "source": [
        "## Excercise 21 (work in groups ~ 10 mins)\n",
        "Reproduce the following figure.\n",
        "\n",
        "Use this contours for the VLA image: (-3, 3, 4, 5, 6, 8, 10, 13, 16, 20) x rms.\n",
        "\n",
        "\n",
        "![Sources1&2.png](data:image/png;base64,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)"
      ]
    },
    {
      "cell_type": "markdown",
      "metadata": {
        "id": "2Y_s_9jVR-gN"
      },
      "source": [
        "### Solution:"
      ]
    },
    {
      "cell_type": "code",
      "metadata": {
        "id": "1JxpvhdbPlll"
      },
      "source": [
        "#contours to use\n",
        "cont_alma = np.array([ 5, 10, 20, 30, 50, 70])\n",
        "cont_vla = np.array([-3, 3, 4, 5, 6, 8, 10, 13, 16, 20])\n",
        "f = 1E-6\n",
        "\n",
        "#rms of images\n",
        "rms_value_alma=550 #uJy\n",
        "rms_value_vla=10 #uJy\n",
        "#labels\n",
        "label_rms_alma = make_label_rms(rms_value_alma)\n",
        "label_rms_vla = make_label_rms(rms_value_vla)\n",
        "\n",
        "\n",
        "#center coordinates and field of view to show\n",
        "ra_center = 15*(5+35/60+25.875/3600) #5 35 25.95\n",
        "dec_center = -1*(5+5/60+43.369/3600)  #-5 5 43.369\n",
        "r = 5/3600 # x arcsec\n",
        "\n",
        "\n",
        "# some format stuff\n",
        "color_alma = 'red'\n",
        "color_vla = 'black'\n",
        "line_width = 2\n",
        "font_size = 20\n",
        "tick_size = 8\n",
        "min_tick_size = 4\n",
        "\n",
        "#make the figures and show markers\n",
        "fig = aplpy.FITSFigure('VLA.fits')\n",
        "fig.show_contour('VLA.fits', colors = color_vla, levels=cont_vla*rms_value_vla*f, layer='contour_set_vla')\n",
        "fig.show_contour('ALMA.fits', colors = color_alma, levels=cont_alma*rms_value_alma*f, layer='contour_set_alma')\n",
        "fig.show_markers(ra, dec, marker='+', facecolor='blue', s=200) #this is added in a new layer\n",
        "\n",
        "#recenter and zoom in figure \n",
        "fig.recenter(ra_center, dec_center, radius=r/2)\n",
        "\n",
        "#customize beams\n",
        "fig.add_beam() #this only shows the beam in the main figure\n",
        "fig.add_beam() #this adds a second beam identical to the one in the background, but you can modify it (by hand :/)\n",
        "#set second beam\n",
        "fig.beam[1].set_major(0.107 * u.arcsecond)\n",
        "fig.beam[1].set_minor(0.104 * u.arcsecond)\n",
        "fig.beam[1].set_angle(18.9 * u.degree)\n",
        "fig.beam[0].set(facecolor='white',edgecolor=color_vla, linewidth = line_width)\n",
        "fig.beam[1].set(facecolor='white',edgecolor=color_alma, linewidth = line_width)\n",
        "fig.beam[1].set_frame(True)\n",
        "\n",
        "# final touches\n",
        "fig.frame.set_linewidth(line_width)  # points\n",
        "fig.ax.tick_params(direction='in', length=tick_size, width=line_width)\n",
        "fig.ax.tick_params(length=min_tick_size, which='minor') #only property available with 'minor' is length\n",
        "fig.axis_labels.set_font(size=font_size)\n",
        "fig.tick_labels.set_font(size=font_size)\n",
        "fig.set_title('Sources 1 and 2',size=font_size+10,pad=20)\n",
        "\n",
        "fig.add_label(0.95, 0.05, label_rms_alma, relative=True, size=font_size, horizontalalignment='right',color=color_alma)\n",
        "fig.add_label(0.95, 0.12, label_rms_vla, relative=True, size=font_size, horizontalalignment='right',color=color_vla)\n",
        "\n",
        "names=['Source 1','Source 2']\n",
        "for i, coord in enumerate(zip(ra,dec)): \n",
        "  fig.add_label(coord[0], coord[1]+0.8/3600, names[i], size=font_size)"
      ],
      "execution_count": null,
      "outputs": []
    },
    {
      "cell_type": "markdown",
      "metadata": {
        "id": "WGsglc0Coboh"
      },
      "source": [
        "## Exercise 22\n",
        "What about subplots?\n",
        "\n",
        "Make a Figure with two vertical axes (top and bottom). Plot VLA image in the top axes and the ALMA image in the bottom one. "
      ]
    },
    {
      "cell_type": "code",
      "metadata": {
        "id": "58ZoSorMqt4J"
      },
      "source": [
        "fig = plt.figure(figsize=(10, 10))\n",
        "\n",
        "f1 = aplpy.FITSFigure('VLA.fits', figure=fig, subplot=[0,0.5,1,0.5]) # [xmin, ymin, dx, dy] where xmin and ymin are the position of the bottom left corner of the subplot, \n",
        "                                                                     # and dx and dy are the width and height of the subplot respectively.\n",
        "                                                                     # These should all be given in units of the figure width and height.\n",
        "f1.show_grayscale()\n",
        "f1.add_colorbar()\n",
        "\n",
        "f2 = aplpy.FITSFigure('ALMA.fits', figure=fig, subplot=[0,0,1,0.5])\n",
        "f2.show_grayscale()\n",
        "f2.add_colorbar()\n",
        "\n",
        "fig.canvas.draw()\n"
      ],
      "execution_count": null,
      "outputs": []
    },
    {
      "cell_type": "markdown",
      "metadata": {
        "id": "bdXPpI9wvAhp"
      },
      "source": [
        "## Exercise 23 (individual work ~5 mins)\n",
        "Get sizes right! And allow space to show the coordinates in both figures."
      ]
    },
    {
      "cell_type": "code",
      "metadata": {
        "id": "_fm1Q_-pu9YY"
      },
      "source": [
        "fig = plt.figure(figsize=(10, 10))\n",
        "\n",
        "f1 = aplpy.FITSFigure('VLA.fits', figure=fig, subplot=[0,0.57,0.85,0.85]) # [xmin, ymin, dx, dy] where xmin and ymin are the position of the bottom left corner of the subplot, \n",
        "                                                                     # and dx and dy are the width and height of the subplot respectively.\n",
        "                                                                     # These should all be given in units of the figure width and height.\n",
        "f1.show_grayscale()\n",
        "f1.add_colorbar()\n",
        "\n",
        "f2 = aplpy.FITSFigure('ALMA.fits', figure=fig, subplot=[0,0,0.85,0.5])\n",
        "f2.show_grayscale()\n",
        "f2.add_colorbar()\n",
        "\n",
        "fig.canvas.draw()\n"
      ],
      "execution_count": null,
      "outputs": []
    },
    {
      "cell_type": "markdown",
      "metadata": {
        "id": "6QfgYpOewbhY"
      },
      "source": [
        "## Exercise 24 (work in groups ~15 mins)\n",
        "Reproduce the following figure. \n",
        "\n",
        "Use images VLA-small.fits and ALMA.fits for the top pannel, source9-VLA.fits and source9-ALMA.fits for the bottom left pannel, and source11-VLA.fits and source11-ALMA.fits for the bottom right pannel. \n",
        "\n",
        "Plot VLA data in black contours and the ALMA data in red contours.\n",
        "\n",
        "![composition.png](data:image/png;base64,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)\n",
        "\n",
        "\n"
      ]
    },
    {
      "cell_type": "markdown",
      "metadata": {
        "id": "ZiCBMOXvO6dh"
      },
      "source": [
        "### Solution"
      ]
    },
    {
      "cell_type": "code",
      "metadata": {
        "id": "ENcOwQiSwYHA"
      },
      "source": [
        "#contours to use\n",
        "cont_alma = np.array([3, 5, 10, 20, 30, 50, 70])\n",
        "cont_vla = np.array([-3, 3, 4, 5, 6, 8, 10, 13, 16, 20, 25])\n",
        "f = 1E-6\n",
        "\n",
        "#rms of images\n",
        "rms_value_alma=550 #uJy\n",
        "rms_value_vla=10 #uJy\n",
        "#alma beam\n",
        "major = 0.107 * u.arcsecond\n",
        "minor = 0.104 * u.arcsecond\n",
        "pa = 18.9 * u.degree\n",
        "\n",
        "# some format stuff\n",
        "color_alma = 'red'\n",
        "color_vla = 'black'\n",
        "line_width = 2\n",
        "\n",
        "#make the figures\n",
        "fig = plt.figure(figsize=(10, 10))\n",
        "f1 = aplpy.FITSFigure('VLA-small.fits', figure=fig, subplot=[0.1,0.6,1,0.5])\n",
        "f1.show_contour('VLA-small.fits',colors = color_vla, levels=cont_vla*rms_value_vla*f)\n",
        "f1.show_contour('ALMA.fits',colors = color_alma, levels=cont_alma*rms_value_alma*f)\n",
        "f1.add_beam()\n",
        "f1.add_beam() #this adds a second beam identical to the one in the background, but you can modify it (by hand :/)\n",
        "#set second beam\n",
        "f1.beam[1].set_major(major)\n",
        "f1.beam[1].set_minor(minor)\n",
        "f1.beam[1].set_angle(pa)\n",
        "f1.beam[0].set(facecolor='white',edgecolor=color_vla, linewidth = line_width)\n",
        "f1.beam[1].set(facecolor='white',edgecolor=color_alma, linewidth = line_width)\n",
        "f1.beam[1].set_frame(True)\n",
        "f1.set_title('Sources 1 and 2',)\n",
        "\n",
        "f2 = aplpy.FITSFigure('source9-VLA.fits', figure=fig, subplot=[0,0,0.5,0.5])\n",
        "f2.show_contour('source9-VLA.fits', colors = color_vla, levels=cont_vla*rms_value_vla*f, layer='contour_set_vla')\n",
        "f2.show_contour('source9-ALMA.fits', colors = color_alma, levels=cont_alma*rms_value_alma*f)\n",
        "f2.add_beam()\n",
        "f2.add_beam() #this adds a second beam identical to the one in the background, but you can modify it (by hand :/)\n",
        "#set second beam\n",
        "f2.beam[1].set_major(major)\n",
        "f2.beam[1].set_minor(minor)\n",
        "f2.beam[1].set_angle(pa)\n",
        "f2.beam[0].set(facecolor='white',edgecolor=color_vla, linewidth = line_width)\n",
        "f2.beam[1].set(facecolor='white',edgecolor=color_alma, linewidth = line_width)\n",
        "f2.beam[1].set_frame(True)\n",
        "f2.set_title('Source 9')\n",
        "\n",
        "f3 = aplpy.FITSFigure('source11-VLA.fits', figure=fig, subplot=[0.65,0,0.5,0.5])\n",
        "f3.show_contour('source11-VLA.fits', colors = color_vla, levels=cont_vla*rms_value_vla*f)\n",
        "f3.show_contour('source11-ALMA.fits', colors = color_alma, levels=cont_alma*rms_value_alma*f)\n",
        "f3.add_beam()\n",
        "f3.add_beam() #this adds a second beam identical to the one in the background, but you can modify it (by hand :/)\n",
        "#set second beam\n",
        "f3.beam[1].set_major(major)\n",
        "f3.beam[1].set_minor(minor)\n",
        "f3.beam[1].set_angle(pa)\n",
        "f3.beam[0].set(facecolor='white',edgecolor=color_vla, linewidth = line_width)\n",
        "f3.beam[1].set(facecolor='white',edgecolor=color_alma, linewidth = line_width)\n",
        "f3.beam[1].set_frame(True)\n",
        "f3.set_title('Source 11')\n",
        "\n",
        "fig.savefig('composition.png', bbox_inches='tight')"
      ],
      "execution_count": null,
      "outputs": []
    }
  ]
}